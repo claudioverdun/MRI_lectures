{
 "cells": [
  {
   "cell_type": "markdown",
   "metadata": {},
   "source": [
    "## Calibration-Less Multi-coil (CaLM) MRI\n",
    "Angshul Majumdar and Rabab K.Ward, 2012"
   ]
  },
  {
   "cell_type": "markdown",
   "metadata": {},
   "source": [
    "### Assumption\n",
    "- Sensitivity encoded images of the different coils are consistent with each other\n",
    "- Image is sparse in some basis\n",
    "- Measurement matrix has RIP\n"
   ]
  },
  {
   "cell_type": "markdown",
   "metadata": {},
   "source": [
    "### Image reconstruction\n",
    "The data aquistion can be expressed as s \n",
    "\n",
    "$$y_i = PFS_ix + \\eta_i,  \\quad i = 1,\\dots,C \\qquad (1)$$\n",
    "\n",
    "where \n",
    "- $x \\in \\mathbb{R}^n$ is the vectorized image\n",
    "- $S_i$ is the diagonalized smooth sensitivity map of the $i$-th coil-\n",
    "- $P$ is a fat $m \\times n, \\: m < n $ permuation matrix for undersamlpling the k-space (each row in P has only one $1$ and rest are zeros)\n",
    "- $y_i \\in \\mathbb{C}^m $ is the undersampled k-space data of $i$-th coil\n",
    "- $\\eta$ denotes the noise.\n",
    "\n",
    "Denoting the sensitivity encoded images by $x_i = S_i x$, we further reformulate above equation as \n",
    "\n",
    "$$y_i = PFx_i + \\eta_i,  \\quad i = 1,\\dots,C \\qquad (2)$$\n",
    "\n",
    "Now, employing the wavelet transform on the sensitivity encoded images using the transformation matrix $W$, we obtain\n",
    "\n",
    "$$y_i = PFW^T\\alpha_i + \\eta_i,  \\quad i = 1,\\dots,C \\qquad (3)$$\n",
    "\n",
    "with wavelet coefficents $\\alpha_i$.\n",
    "Alternatively, by concatinating all $y_i$ into one large measurement vector $y = \\begin{bmatrix}y_1\\\\ \\vdots \\\\ y_C\\end{bmatrix}$ yields\n",
    "\n",
    "$$ y = A\\alpha +  \\eta, \\qquad (4)$$\n",
    "\n",
    "where $A = \\text{diag}\\bigg(\\begin{bmatrix} PFW^T \\\\ \\vdots \\\\ PFW^T \\end{bmatrix}\\bigg)$ is the measurement matrix, $\\alpha = \\begin{bmatrix}\\alpha_1\\\\ \\vdots \\\\ \\alpha_C\\end{bmatrix}$, and $\\eta = \\begin{bmatrix}\\eta_1\\\\ \\vdots \\\\ \\eta_C\\end{bmatrix}$.\n",
    "\n",
    "The task is now to solve (4) for the coefficiens $\\alpha$. Since (4) is an undertermined equations system, we employ the theories of compressive sensing to reconstructed a unique solution. That is, we assume \n",
    "\n",
    "1) the coefficient vector $\\alpha$ is sparse,\n",
    "\n",
    "2) the measurement matrix $A$ satisfies the restricted isometric property (RIP).\n",
    "\n",
    "Typically for MRI images, their wavelet coeffiecents are sparse, thus assuming that $\\alpha$ is sparse is a reasonable assumption. Furhermore, we do not only assume $\\alpha$ is sparse but rather that it is _group-sparse_. That means the different $\\alpha_i$ share the approximatelty the same support, but not necessarily the same values at the non-zero entries. This follows from the assumption that the sensitivity maps $S_i$ are smooth and therefore the multiplication $x_i = S_i x$ will yield discontinuities at the same positions as the image $x$. And as the wavelet transform encodes the discontinuities we can expect $\\alpha$ to be group-sparse.\n",
    "\n",
    "Remark: The authors for the CaLM MRI paper claim that also the values of the coefficents at the same indices in different $\\alpha_i$s will be similar; however, I cannot comprehend their reasoning as I think that I could find a smooth sensitivity map to show that it is not true.\n",
    "\n",
    "Denoting the matrix $\\alpha_S = \\begin{bmatrix}\\alpha_1 & \\cdots & \\alpha_C\\end{bmatrix}$ the optimization to obtain $\\alpha$ becomes\n",
    "\n",
    "$$ \\hat{\\alpha}_S = \\text{argmin}_{\\alpha_S}\\: ||\\alpha_S||_{2,1}, \\quad \\text{s.t.} \\: ||y-A\\alpha||_2 \\leq \\epsilon \\qquad(5)$$\n",
    "\n",
    "where $\\epsilon = \\sqrt{CN\\sigma}$ and $||\\cdot||_{2,1}$ denotes the $\\ell_{2,1}$ norm.\n",
    "\n",
    "Formulation (5) is a synthesis prior formulation; however, a solution can also be obtained by solving the analysis prior formulation\n",
    "\n",
    "$$ \\hat{X} = \\text{argmin}_{X} \\: ||WX||_{2,1}, \\quad \\text{s.t.} \\: ||y-\\text{vec}(PFX)||_2 \\leq \\epsilon, \\qquad(6)$$\n",
    "\n",
    "where $X = \\begin{bmatrix}x_1 & \\cdots & x_C\\end{bmatrix}$. The analysis prior formulation thus solves for the sensitivity encoded images directly. Since $W$ is a orthogonal matrix, (5) and (6) yield the same solution in theory. \n",
    "\n",
    "Upon obtaining the sensitivity encoded images, the final image $\\hat{x}$ is computed as the sum of squares, i.e, $\\hat{x} = \\sqrt{\\sum_{i = 1}^C \\hat{x}_i^2}$.\n"
   ]
  },
  {
   "cell_type": "markdown",
   "metadata": {},
   "source": [
    "### Sampling Approaches\n",
    "\n",
    "Periodic:\n",
    "- traditionally the most often used parallel MRI acceleration method\n",
    "- unsuitable for CS reconstruction\n",
    "\n",
    "Gaussian:\n",
    "- yields good results\n",
    "- can not be efficiently acquired\n",
    "\n",
    "Radial:\n",
    "- practical and efficient for CS based MR\n",
    "- robust to object motion and ghosting artifcts\n",
    "- reconstructing images more difficult "
   ]
  },
  {
   "cell_type": "markdown",
   "metadata": {},
   "source": [
    "<img src=\"./pics/calm_sampl.png\">"
   ]
  },
  {
   "cell_type": "markdown",
   "metadata": {},
   "source": [
    "### Similarity and differences to GRAPPA and SENSE  \n",
    "\n",
    "Similiarities:\n",
    "\n",
    "- Mulit-coil\n",
    "- Produces one sensitivity encoded image for each coil, like GRAPPA\n",
    "- Formalism like SENSE\n",
    "\n",
    "Differences:\n",
    "\n",
    "- No calibration needed, no parameter estimation (sensitivity maps in SENSE or interpolation weights in GRAPPA)\n",
    "- Insensitive to calibration errors\n",
    "- Unlike SENSE, one image each coil\n",
    "- Underdetermined equation system\n",
    "\n",
    "Negatves:\n",
    "\n",
    "- Can lead to oversmooth, blurred images\n",
    "- Depended on the sampling approach and sparsefying transform"
   ]
  },
  {
   "cell_type": "markdown",
   "metadata": {},
   "source": [
    "#### My Criticism\n",
    "\n",
    "- Consitency assumptions of sensitivity encoded images of the different coils\n",
    "- SOS of sensitivity encoded images\n",
    "- Is group sparsity really needed\n",
    "- No really effective usage of multi coil setting\n",
    "\n",
    "\n"
   ]
  },
  {
   "cell_type": "markdown",
   "metadata": {},
   "source": [
    "<img src=\"pics/img_for_pres.png\">"
   ]
  },
  {
   "cell_type": "markdown",
   "metadata": {},
   "source": [
    "From paper: Reconstructed images from Gaussian Sampling. Left to right: brain, Shepp-Logan Phantom and UBC MRI Slice 1; top to bottom: GRAPPA, CS SENSE, CaLM MRI synthesis, CaLM MRI analysis."
   ]
  },
  {
   "cell_type": "markdown",
   "metadata": {},
   "source": [
    "### Low-Rank Formulation for CaLM MRI\n",
    "An alternative formulation of CaLM MRI is its low rank formulation. That is, we assume $X$ to be low rank and solve\n",
    "\n",
    "$$ \\hat{X} = \\text{argmin}_X \\: ||Y −PFX||_F$$\n",
    "\n",
    "where $Y = \\begin{bmatrix}y_1 & \\cdots & y_C\\end{bmatrix}$, and X is constrained be low rank. The low rank assumption comes from the observation that neighbouring coils yield approximately linearly correlated images."
   ]
  }
 ],
 "metadata": {
  "kernelspec": {
   "display_name": "Julia 1.4.1",
   "language": "julia",
   "name": "julia-1.4"
  },
  "language_info": {
   "file_extension": ".jl",
   "mimetype": "application/julia",
   "name": "julia",
   "version": "1.4.1"
  }
 },
 "nbformat": 4,
 "nbformat_minor": 4
}
