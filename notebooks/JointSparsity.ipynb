{
 "cells": [
  {
   "cell_type": "markdown",
   "metadata": {},
   "source": [
    "# Efficient Compressed Sensing SENSE pMRI Reconstruction With Joint Sparsity Promotion\n",
    "Il Yong Chun, Ben Adcock, and Thomas M. Talavage, 2015"
   ]
  },
  {
   "cell_type": "markdown",
   "metadata": {},
   "source": [
    "## Julia Implementation"
   ]
  },
  {
   "cell_type": "code",
   "execution_count": 1,
   "metadata": {},
   "outputs": [
    {
     "name": "stderr",
     "output_type": "stream",
     "text": [
      "┌ Info: Precompiling Wavelets [29a6e085-ba6d-5f35-a997-948ac2efa89a]\n",
      "└ @ Base loading.jl:1260\n",
      "┌ Info: Precompiling Plots [91a5bcdd-55d7-5caf-9e0b-520d859cae80]\n",
      "└ @ Base loading.jl:1260\n"
     ]
    }
   ],
   "source": [
    "using LinearAlgebra, MAT, FFTW, Wavelets, Random, Plots"
   ]
  },
  {
   "cell_type": "markdown",
   "metadata": {},
   "source": [
    "### Utility functions "
   ]
  },
  {
   "cell_type": "code",
   "execution_count": 2,
   "metadata": {},
   "outputs": [
    {
     "data": {
      "text/plain": [
       "SoS (generic function with 1 method)"
      ]
     },
     "execution_count": 2,
     "metadata": {},
     "output_type": "execute_result"
    }
   ],
   "source": [
    "function SoS(x)\n",
    "    return sqrt.(sum(x.^2, dims=3)[:,:])\n",
    "end"
   ]
  },
  {
   "cell_type": "code",
   "execution_count": 3,
   "metadata": {},
   "outputs": [
    {
     "data": {
      "text/plain": [
       "Jsoftshrink (generic function with 1 method)"
      ]
     },
     "execution_count": 3,
     "metadata": {},
     "output_type": "execute_result"
    }
   ],
   "source": [
    "function Jsoftshrink(x, lambda)\n",
    "   return (x./norm(x)) .* min(norm(x) - lambda, 0)\n",
    "end"
   ]
  },
  {
   "cell_type": "markdown",
   "metadata": {},
   "source": [
    "### Initialisation"
   ]
  },
  {
   "cell_type": "code",
   "execution_count": 4,
   "metadata": {},
   "outputs": [],
   "source": [
    "# Load data \n",
    "file = matopen(\"data/brain_coil.mat\");\n",
    "coilScans = read(file, \"brain_coil_tmp\");\n",
    "close(file);\n",
    "file = matopen(\"data/coil_sensitivity_map.mat\");\n",
    "coilSensitivityMaps = read(file, \"coil_map\");\n",
    "close(file);\n",
    "\n",
    "# K-spaces\n",
    "height, width, C = size(coilScans);\n",
    "y_original = reshape(fftshift(fft(coilScans)), :, 1); # Observed K-space, vectorised and all coils concatenated\n",
    "y = y_original;\n",
    "N = height*width; # Length of vectorised images\n",
    "\n",
    "# Diagonalised Sensitivity Maps\n",
    "vectorisedMaps = reshape(coilSensitivityMaps, :, C);\n",
    "S = Diagonal(vectorisedMaps[:,1]);\n",
    "for coil=2:C\n",
    "    S = [S; Diagonal(vectorisedMaps[:,2])];\n",
    "end"
   ]
  },
  {
   "cell_type": "code",
   "execution_count": 5,
   "metadata": {},
   "outputs": [],
   "source": [
    "# Define hyperparameters \n",
    "alpha = 0.05;\n",
    "beta = 2*alpha;\n",
    "gamma = 2*alpha;\n",
    "v = 2*alpha;\n",
    "nInner = 1; # Number of inner Bregman iterations \n",
    "nOuter = 10; # Number of outer Bregman iterations \n",
    "# delta = # Alternatively can define threshold for stopping condition instead of nOuter"
   ]
  },
  {
   "cell_type": "code",
   "execution_count": 28,
   "metadata": {},
   "outputs": [
    {
     "ename": "UndefVarError",
     "evalue": "UndefVarError: kron! not defined",
     "output_type": "error",
     "traceback": [
      "UndefVarError: kron! not defined",
      "",
      "Stacktrace:",
      " [1] top-level scope at In[28]:8"
     ]
    }
   ],
   "source": [
    "# Define important matrices\n",
    "I_c = Diagonal(ones(C));\n",
    "I_n = Diagonal(ones(N));\n",
    "file = matopen(\"data/gradients.mat\");\n",
    "G1 = read(file, \"GH\"); # Horizontal gradient operator\n",
    "G2 = read(file, \"GV\"); # Vertical gradient operator \n",
    "close(file);\n",
    "G1c = kron(I_c, G1); # Kroneckered G1 for vector operations\n",
    "G2c = kron(I_c, G2); # Kroneckered G2 for vector operations"
   ]
  },
  {
   "cell_type": "code",
   "execution_count": 41,
   "metadata": {},
   "outputs": [
    {
     "data": {
      "text/plain": [
       "(79300, 76800)"
      ]
     },
     "execution_count": 41,
     "metadata": {},
     "output_type": "execute_result"
    }
   ],
   "source": [
    "size(G1c)"
   ]
  },
  {
   "cell_type": "code",
   "execution_count": 31,
   "metadata": {},
   "outputs": [
    {
     "name": "stdout",
     "output_type": "stream",
     "text": [
      "size(Psi) = (15360, 15360)\n"
     ]
    }
   ],
   "source": [
    "Phi = fft(I_n, 1); # Fourier transform\n",
    "#Phi_c = kron(I_c, Phi);\n",
    "Psi =  dct(I_n, 1); # Sparsifying transform\n",
    "@show size(Psi)\n",
    "#Psi_c = kron(I_c, Psi); # Kroneckered Psi for vector operations"
   ]
  },
  {
   "cell_type": "code",
   "execution_count": 8,
   "metadata": {},
   "outputs": [],
   "source": [
    "m = convert(UInt16, 0.6*N);\n",
    "p = [ones(m); zeros(N-m)];\n",
    "shuffle(p);\n",
    "P_Omega = Diagonal(p); # Diagonal projection matrix\n",
    "P_Omega_c = kron(I_c, P_Omega); # Kroneckered P_Omega for vector operations"
   ]
  },
  {
   "cell_type": "code",
   "execution_count": 9,
   "metadata": {},
   "outputs": [
    {
     "ename": "OutOfMemoryError",
     "evalue": "OutOfMemoryError()",
     "output_type": "error",
     "traceback": [
      "OutOfMemoryError()",
      "",
      "Stacktrace:",
      " [1] Array at ./boot.jl:407 [inlined]",
      " [2] Array at ./boot.jl:415 [inlined]",
      " [3] zeros at ./array.jl:504 [inlined]",
      " [4] zeros at ./array.jl:500 [inlined]",
      " [5] kron(::Diagonal{Float64,Array{Float64,1}}, ::Array{Complex{Float64},2}) at /build/julia/src/julia-1.4.2/usr/share/julia/stdlib/v1.4/LinearAlgebra/src/diagonal.jl:494",
      " [6] top-level scope at In[9]:1"
     ]
    }
   ],
   "source": [
    "F_Omega_c = P_Omega_c * kron(I_c, Phi);"
   ]
  },
  {
   "cell_type": "code",
   "execution_count": 10,
   "metadata": {},
   "outputs": [
    {
     "ename": "UndefVarError",
     "evalue": "UndefVarError: Phi_c not defined",
     "output_type": "error",
     "traceback": [
      "UndefVarError: Phi_c not defined",
      "",
      "Stacktrace:",
      " [1] top-level scope at In[10]:1"
     ]
    }
   ],
   "source": [
    "# Precompute values\n",
    "Lambda = alpha*P_Omega_c'*P_Omega_c + (beta + v)*I + gamma*Phi_c*(G1c'*G1c + G2c'*G2c)*Phi_c';\n",
    "\n",
    "# Initialise values \n",
    "x = SoS(Phi_c'*y);\n",
    "ds = zeros(Float64, (N*C, 1));\n",
    "dpsi = zeros(Float64, (N*C, 1));\n",
    "d1 = zeros(Float64, (N*C, 1));\n",
    "d2 = zeros(Float64, (N*C, 1));\n",
    "bs = zeros(Float64, (N*C, 1));\n",
    "bpsi = zeros(Float64, (N*C, 1));\n",
    "b1 = zeros(Float64, (N*C, 1));\n",
    "b2 = zeros(Float64, (N*C, 1));"
   ]
  },
  {
   "cell_type": "markdown",
   "metadata": {},
   "source": [
    "### Recursive Computation"
   ]
  },
  {
   "cell_type": "code",
   "execution_count": 11,
   "metadata": {},
   "outputs": [
    {
     "ename": "UndefVarError",
     "evalue": "UndefVarError: ds not defined",
     "output_type": "error",
     "traceback": [
      "UndefVarError: ds not defined",
      "",
      "Stacktrace:",
      " [1] top-level scope at ./In[11]:3"
     ]
    }
   ],
   "source": [
    "for nOut = 1:nOuter\n",
    "    for nIn = 1:nInner\n",
    "        x = pinv(S'*S)*S'*(ds - bs);\n",
    "        ds = Phi_c'*pinv(Lambda)*Phi_c*(alpha*F_Omega'*y + beta*Psi_c'*(dpsi-bpsi) + gamma*G1c'*(d1-b1) + gamma*G2c'*(d1-b2) + v*(S*x+bs));\n",
    "        dpsi = Jsoftshrink(Psi_c*ds + bpsi, 1/beta);\n",
    "        d1 = Jsoftshrink(G1c*ds+b1, 1/gamma);\n",
    "        d2 = Jsoftshrink(G2c*ds+b2, 1/gamma);\n",
    "        bs = bs + S*x - ds;\n",
    "        bpsi = bpsi + Psi_c*ds - dpsi;\n",
    "        b1 = b1 + G1c*ds - d1;\n",
    "        b2 = b2 + G2c*ds - d2;\n",
    "    end\n",
    "    y = y + y_original - F_Omega_c*S*x;\n",
    "end"
   ]
  },
  {
   "cell_type": "markdown",
   "metadata": {},
   "source": [
    "### Visualisation"
   ]
  },
  {
   "cell_type": "code",
   "execution_count": null,
   "metadata": {},
   "outputs": [],
   "source": []
  },
  {
   "cell_type": "code",
   "execution_count": null,
   "metadata": {},
   "outputs": [],
   "source": []
  }
 ],
 "metadata": {
  "kernelspec": {
   "display_name": "Julia 1.4.1",
   "language": "julia",
   "name": "julia-1.4"
  },
  "language_info": {
   "file_extension": ".jl",
   "mimetype": "application/julia",
   "name": "julia",
   "version": "1.4.2"
  }
 },
 "nbformat": 4,
 "nbformat_minor": 4
}
