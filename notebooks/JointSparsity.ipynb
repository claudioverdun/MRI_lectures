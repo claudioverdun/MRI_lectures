{
 "cells": [
  {
   "cell_type": "markdown",
   "metadata": {},
   "source": [
    "# Efficient Compressed Sensing SENSE pMRI Reconstruction With Joint Sparsity Promotion\n",
    "Il Yong Chun, Ben Adcock, and Thomas M. Talavage, 2015"
   ]
  },
  {
   "cell_type": "markdown",
   "metadata": {},
   "source": [
    "## Julia Implementation"
   ]
  },
  {
   "cell_type": "code",
   "execution_count": 1,
   "metadata": {},
   "outputs": [],
   "source": [
    "using LinearAlgebra, MAT, FFTW, Wavelets, Random, Plots, PyPlot"
   ]
  },
  {
   "cell_type": "code",
   "execution_count": 2,
   "metadata": {},
   "outputs": [],
   "source": [
    "using SparseArrays"
   ]
  },
  {
   "cell_type": "code",
   "execution_count": 3,
   "metadata": {},
   "outputs": [],
   "source": [
    "using Distributions "
   ]
  },
  {
   "cell_type": "code",
   "execution_count": 4,
   "metadata": {},
   "outputs": [],
   "source": [
    "using Images"
   ]
  },
  {
   "cell_type": "markdown",
   "metadata": {},
   "source": [
    "### Initialisation"
   ]
  },
  {
   "cell_type": "code",
   "execution_count": 1,
   "metadata": {},
   "outputs": [
    {
     "ename": "UndefVarError",
     "evalue": "UndefVarError: matopen not defined",
     "output_type": "error",
     "traceback": [
      "UndefVarError: matopen not defined",
      "",
      "Stacktrace:",
      " [1] top-level scope at In[1]:1"
     ]
    }
   ],
   "source": [
    "# Load data \n",
    "file = matopen(\"data/brain_coil.mat\");\n",
    "coilScans = read(file, \"brain_coil_tmp\");\n",
    "close(file);\n",
    "file = matopen(\"data/coil_sensitivity_map.mat\");\n",
    "coilSensitivityMaps = read(file, \"coil_map\");\n",
    "close(file);\n",
    "\n",
    "# # K-spaces\n",
    "# cs = zeros(64,64,5)\n",
    "# for i = 1:5\n",
    "#     cs[:,:,i] =  imresize(coilScans[:,:,i], (64, 64));\n",
    "# end\n",
    "# coilScans = cs;\n",
    "# sm = zeros(64,64,5)\n",
    "# for i = 1:5\n",
    "#     sm[:,:,i] =  imresize(coilSensitivityMaps[:,:,i], (64, 64));\n",
    "# end\n",
    "# coilSensitivityMaps = sm;\n",
    "height, width, C = size(coilScans);\n",
    "N = height*width; # Length of vectorised images"
   ]
  },
  {
   "cell_type": "code",
   "execution_count": 2,
   "metadata": {},
   "outputs": [
    {
     "ename": "UndefVarError",
     "evalue": "UndefVarError: N not defined",
     "output_type": "error",
     "traceback": [
      "UndefVarError: N not defined",
      "",
      "Stacktrace:",
      " [1] top-level scope at In[2]:7"
     ]
    }
   ],
   "source": [
    "# N = 4\n",
    "# C = 3\n",
    "# x = [1 2 3 4 5 6 1 2 3  4 5 6]'  # Example for verification purposes\n",
    "\n",
    "# Selecting matrix P_Omega in Gaussian distributed fashion\n",
    "lb = 1;    # The truncation lower bound\n",
    "ub = N;   # The truncation upper bound\n",
    "mu = trunc(Int32, N/2)    # The mean of the truncated Normal\n",
    "sigma = 5000; # The standard deviation of the truncated Normal\n",
    "d = Truncated(Normal(mu, sigma), lb, ub)  #Construct the distribution type\n",
    "samp = 5000; # Number of samples with possible overlapping\n",
    "ind = trunc.(Int64, rand(d, samp)); # Indices of samples (possibly duplicated coordinates here)\n",
    "A = spzeros(N)\n",
    "A[ind] .= 1\n",
    "\n",
    "P_Omega = Diagonal(A);\n",
    "P_Omega = dropzeros(sparse(P_Omega));"
   ]
  },
  {
   "cell_type": "markdown",
   "metadata": {},
   "source": [
    "### Utility functions "
   ]
  },
  {
   "cell_type": "code",
   "execution_count": 3,
   "metadata": {},
   "outputs": [],
   "source": [
    "# Notation as in Paper\n",
    "function SoS(x)\n",
    "    x = reshape(x,N,C)\n",
    "    x = sum(x.^2, dims = 2)\n",
    "    return sqrt.(x)\n",
    "end\n",
    "\n",
    "function Jsoftshrink(x, lambda)\n",
    "   return (x./norm(x)) .* max(norm(x) - lambda, 0)\n",
    "end\n",
    "\n",
    "function Psi(x)\n",
    "    return dwt(x, wavelet(WT.db2));\n",
    "end\n",
    "function Psi_H(x)\n",
    "    return idwt(x, wavelet(WT.db2));\n",
    "end\n",
    "function Phi(x)\n",
    "    return fftshift(fft(x));\n",
    "end\n",
    "function Phi_H(x)\n",
    "    return ifft(ifftshift(x));\n",
    "end\n",
    "function Phi_c(x)\n",
    "    x = reshape(x,N,C)\n",
    "    y = zeros(N,C).+0*im\n",
    "    for i = 1:C\n",
    "        y[:,i] = Phi(x[:,i]);\n",
    "    end\n",
    "    return y[:]\n",
    "end\n",
    "function Phi_cH(x)\n",
    "    x = reshape(x,N,C)\n",
    "    y = zeros(N,C).+0*im\n",
    "    for i = 1:C\n",
    "        y[:,i] = Phi_H(x[:,i]);\n",
    "    end\n",
    "    return y[:]\n",
    "end\n",
    "function Psi_c(x)\n",
    "    x = reshape(x,N,C)\n",
    "    y = zeros(N,C).+0*im\n",
    "    for i = 1:C\n",
    "        y[:,i] = Psi(x[:,i]);\n",
    "    end\n",
    "    return y[:]\n",
    "end\n",
    "function Psi_cH(x)\n",
    "    x = reshape(x,N,C)\n",
    "    y = zeros(N,C).+0*im\n",
    "    for i = 1:C\n",
    "        y[:,i] = Psi_H(x[:,i]);\n",
    "    end\n",
    "    return y[:]\n",
    "end\n",
    "function F_Omega_c(x)\n",
    "    x = reshape(x,N,C)\n",
    "    y = zeros(N,C).+0*im\n",
    "    for i = 1:C\n",
    "        y[:,i] = P_Omega*Phi(x[:,i]);\n",
    "    end\n",
    "    return y[:]\n",
    "end\n",
    "function F_Omega_cH(x)\n",
    "    x = reshape(x,N,C)\n",
    "    y = zeros(N,C).+0*im\n",
    "    for i = 1:C\n",
    "        y[:,i] = Phi_H(P_Omega'*x[:,i]);\n",
    "    end\n",
    "    return y[:]\n",
    "end;\n",
    "# norm(Phi_c(Phi_cH(x)) - x)\n",
    "# norm(Psi_c(Psi_cH(x)) - x)\n",
    "# F_Omega_c(F_Omega_cH(x)) - x"
   ]
  },
  {
   "cell_type": "code",
   "execution_count": 4,
   "metadata": {},
   "outputs": [
    {
     "ename": "UndefVarError",
     "evalue": "UndefVarError: coilScans not defined",
     "output_type": "error",
     "traceback": [
      "UndefVarError: coilScans not defined",
      "",
      "Stacktrace:",
      " [1] top-level scope at In[4]:1"
     ]
    }
   ],
   "source": [
    "# Simulate K-Space data\n",
    "cs_vec = reshape(coilScans,:,C)\n",
    "y_original = zeros(N,C)+zeros(N,C)*im\n",
    "for i = 1:C\n",
    "    y_original[:,i] = Phi(cs_vec[:,i]); # Full K-Space data of vectorised coil images\n",
    "end\n",
    "\n",
    "y_data = P_Omega*y_original\n",
    "PyPlot.plot((abs.(y_original[:,1])))\n",
    "figure()\n",
    "PyPlot.plot((abs.(y_data[:,1])))\n",
    "y_data = y_data[:] + randn(C*N); # Added some noise\n",
    "\n",
    "# Diagonalised Sensitivity Maps\n",
    "vectorisedMaps = reshape(coilSensitivityMaps, :, C);\n",
    "S = Diagonal(vectorisedMaps[:,1]);\n",
    "for coil= 2:C\n",
    "    S = [S; Diagonal(vectorisedMaps[:,coil])];\n",
    "end\n",
    "S = S .+ 0*im; # Very Important to make this complex otherwise Julia gets stuck\n",
    "# imshow(reshape(cs_vec[:,1],height, width))"
   ]
  },
  {
   "cell_type": "code",
   "execution_count": 5,
   "metadata": {},
   "outputs": [
    {
     "ename": "UndefVarError",
     "evalue": "UndefVarError: qr not defined",
     "output_type": "error",
     "traceback": [
      "UndefVarError: qr not defined",
      "",
      "Stacktrace:",
      " [1] top-level scope at In[5]:1"
     ]
    }
   ],
   "source": [
    "# QR Decomposition of S, and defining Q'*x for later use\n",
    "F = qr(S);\n",
    "Q = F.Q;\n",
    "R = F.R;\n",
    "\n",
    "function Q_H(x)\n",
    "    y = Q'*x;\n",
    "    return y[1:N]\n",
    "end"
   ]
  },
  {
   "cell_type": "code",
   "execution_count": 6,
   "metadata": {},
   "outputs": [],
   "source": [
    "# Define hyperparameters \n",
    "α = 0.05;\n",
    "beta = 0.1;\n",
    "v = 0.1;\n",
    "nInner = 1; # Number of inner Bregman iterations \n",
    "nOuter = 100; # Number of outer Bregman iterations \n",
    "# delta = # Alternatively can define threshold for stopping condition instead of nOuter"
   ]
  },
  {
   "cell_type": "code",
   "execution_count": 7,
   "metadata": {},
   "outputs": [
    {
     "ename": "UndefVarError",
     "evalue": "UndefVarError: C not defined",
     "output_type": "error",
     "traceback": [
      "UndefVarError: C not defined",
      "",
      "Stacktrace:",
      " [1] top-level scope at In[7]:1"
     ]
    }
   ],
   "source": [
    "# Precompute values\n",
    "I_c = Diagonal(ones(C));\n",
    "\n",
    "PP = α*P_Omega.^2 + (beta + v)*I;\n",
    "Lambda = kron(I_c, PP) ;\n",
    "Lambda = Array(diag(Lambda))\n",
    "function invLambda(x)\n",
    "     return x./(Lambda)\n",
    "end"
   ]
  },
  {
   "cell_type": "code",
   "execution_count": 8,
   "metadata": {},
   "outputs": [
    {
     "ename": "UndefVarError",
     "evalue": "UndefVarError: y_data not defined",
     "output_type": "error",
     "traceback": [
      "UndefVarError: y_data not defined",
      "",
      "Stacktrace:",
      " [1] top-level scope at In[8]:1"
     ]
    }
   ],
   "source": [
    "# Initialise values  \n",
    "y = y_data;\n",
    "x = SoS(Phi_cH(y));"
   ]
  },
  {
   "cell_type": "code",
   "execution_count": 9,
   "metadata": {},
   "outputs": [
    {
     "ename": "UndefVarError",
     "evalue": "UndefVarError: N not defined",
     "output_type": "error",
     "traceback": [
      "UndefVarError: N not defined",
      "",
      "Stacktrace:",
      " [1] top-level scope at In[9]:1"
     ]
    }
   ],
   "source": [
    "ds = rand(N*C);\n",
    "dpsi = rand(N*C);\n",
    "bs = rand(N*C);\n",
    "bpsi = rand(N*C);\n",
    "Sx = S*x;"
   ]
  },
  {
   "cell_type": "markdown",
   "metadata": {},
   "source": [
    "### SENSE pMRI reconstruction with JS, without the total variation regularization"
   ]
  },
  {
   "cell_type": "code",
   "execution_count": 10,
   "metadata": {},
   "outputs": [
    {
     "ename": "UndefVarError",
     "evalue": "UndefVarError: ds not defined",
     "output_type": "error",
     "traceback": [
      "UndefVarError: ds not defined",
      "",
      "Stacktrace:",
      " [1] top-level scope at .\\In[10]:3"
     ]
    }
   ],
   "source": [
    "for nOut = 1:nOuter\n",
    "    for nIn = 1:nInner\n",
    "        x = R\\(Q_H(ds - bs)); # SOS init will get canceled here\n",
    "        Sx = S*x;\n",
    "        ds = Phi_cH(invLambda(Phi_c(α*F_Omega_cH(y) + beta*Psi_cH(dpsi-bpsi) + v*(Sx+bs))));\n",
    "        dpsi = Jsoftshrink(Psi_c(ds) + bpsi, 1/beta);\n",
    "        bs = bs + Sx - ds;\n",
    "        bpsi = bpsi + Psi_c(ds) - dpsi;\n",
    "    end\n",
    "    y = y + y_data - F_Omega_c(Sx);\n",
    "end"
   ]
  },
  {
   "cell_type": "code",
   "execution_count": 11,
   "metadata": {},
   "outputs": [
    {
     "ename": "UndefVarError",
     "evalue": "UndefVarError: y not defined",
     "output_type": "error",
     "traceback": [
      "UndefVarError: y not defined",
      "",
      "Stacktrace:",
      " [1] top-level scope at In[11]:1"
     ]
    }
   ],
   "source": [
    "norm(y-y_data)"
   ]
  },
  {
   "cell_type": "code",
   "execution_count": 12,
   "metadata": {},
   "outputs": [
    {
     "ename": "UndefVarError",
     "evalue": "UndefVarError: PyPlot not defined",
     "output_type": "error",
     "traceback": [
      "UndefVarError: PyPlot not defined",
      "",
      "Stacktrace:",
      " [1] top-level scope at In[12]:1"
     ]
    }
   ],
   "source": [
    "PyPlot.imshow(reshape(abs.(x),height,width))"
   ]
  },
  {
   "cell_type": "markdown",
   "metadata": {},
   "source": [
    "### Visualisation"
   ]
  },
  {
   "cell_type": "code",
   "execution_count": null,
   "metadata": {},
   "outputs": [],
   "source": []
  }
 ],
 "metadata": {
  "kernelspec": {
   "display_name": "Julia 1.4.1",
   "language": "julia",
   "name": "julia-1.4"
  },
  "language_info": {
   "file_extension": ".jl",
   "mimetype": "application/julia",
   "name": "julia",
   "version": "1.4.1"
  }
 },
 "nbformat": 4,
 "nbformat_minor": 4
}
