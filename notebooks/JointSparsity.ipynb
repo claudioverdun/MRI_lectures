{
 "cells": [
  {
   "cell_type": "markdown",
   "metadata": {},
   "source": [
    "# Efficient Compressed Sensing SENSE pMRI Reconstruction With Joint Sparsity Promotion\n",
    "Il Yong Chun, Ben Adcock, and Thomas M. Talavage, 2015"
   ]
  },
  {
   "cell_type": "markdown",
   "metadata": {},
   "source": [
    "## Julia Implementation"
   ]
  },
  {
   "cell_type": "code",
   "execution_count": 1,
   "metadata": {},
   "outputs": [],
   "source": [
    "using LinearAlgebra, MAT, FFTW, Wavelets, Random, Plots, PyPlot"
   ]
  },
  {
   "cell_type": "code",
   "execution_count": 2,
   "metadata": {},
   "outputs": [],
   "source": [
    "using SparseArrays"
   ]
  },
  {
   "cell_type": "code",
   "execution_count": 3,
   "metadata": {},
   "outputs": [],
   "source": [
    "using Distributions "
   ]
  },
  {
   "cell_type": "code",
   "execution_count": 4,
   "metadata": {},
   "outputs": [],
   "source": [
    "using Images"
   ]
  },
  {
   "cell_type": "markdown",
   "metadata": {},
   "source": [
    "### Initialisation"
   ]
  },
  {
   "cell_type": "code",
   "execution_count": 5,
   "metadata": {},
   "outputs": [],
   "source": [
    "# Load data \n",
    "file = matopen(\"data/brain_coil.mat\");\n",
    "coilScans = read(file, \"brain_coil_tmp\");\n",
    "close(file);\n",
    "file = matopen(\"data/coil_sensitivity_map.mat\");\n",
    "coilSensitivityMaps = read(file, \"coil_map\");\n",
    "close(file);\n",
    "\n",
    "# K-spaces\n",
    "# cs = zeros(64,64,5)\n",
    "# for i = 1:5\n",
    "#     cs[:,:,i] =  imresize(coilScans[:,:,i], (64, 64));\n",
    "# end\n",
    "# coilScans = cs;\n",
    "# sm = zeros(64,64,5)\n",
    "# for i = 1:5\n",
    "#     sm[:,:,i] =  imresize(coilSensitivityMaps[:,:,i], (64, 64));\n",
    "# end\n",
    "# coilSensitivityMaps = sm;\n",
    "height, width, C = size(coilScans);\n",
    "N = height*width; # Length of vectorised images"
   ]
  },
  {
   "cell_type": "code",
   "execution_count": 6,
   "metadata": {},
   "outputs": [],
   "source": [
    "# N = 4\n",
    "# C = 3\n",
    "# x = [1 2 3 4 5 6 1 2 3  4 5 6]'  # Example for verification purposes\n",
    "\n",
    "# Selecting matrix P_Omega in Gaussian distributed fashion\n",
    "lb = 1;    # The truncation lower bound\n",
    "ub = N;   # The truncation upper bound\n",
    "mu = trunc(Int32, N/2)    # The mean of the truncated Normal\n",
    "sigma = 500; # The standard deviation of the truncated Normal\n",
    "d = Truncated(Normal(mu, sigma), lb, ub)  #Construct the distribution type\n",
    "samp = 5000; # Number of samples with possible overlapping\n",
    "ind = trunc.(Int64, rand(d, samp, 1)); # Indices of samples (possibly duplicated coordinates here)\n",
    "A = spzeros(N)\n",
    "A[ind] .= 1\n",
    "\n",
    "P_Omega = Diagonal(A);\n",
    "P_Omega = dropzeros(sparse(P_Omega));"
   ]
  },
  {
   "cell_type": "markdown",
   "metadata": {},
   "source": [
    "### Utility functions "
   ]
  },
  {
   "cell_type": "code",
   "execution_count": 14,
   "metadata": {},
   "outputs": [
    {
     "data": {
      "text/plain": [
       "F_Omega_cH (generic function with 1 method)"
      ]
     },
     "execution_count": 14,
     "metadata": {},
     "output_type": "execute_result"
    }
   ],
   "source": [
    "# Notation as in Paper\n",
    "function SoS(x)\n",
    "    x = reshape(x,N,C)\n",
    "    x = sum(x.^2, dims = 2)\n",
    "    return sqrt.(x)\n",
    "end\n",
    "\n",
    "function Jsoftshrink(x, lambda)\n",
    "   return (x./norm(x)) .* max(norm(x) - lambda, 0)\n",
    "end\n",
    "\n",
    "function Psi(x)\n",
    "    return dwt(x, wavelet(WT.db2));\n",
    "end\n",
    "function Psi_H(x)\n",
    "    return idwt(x, wavelet(WT.db2));\n",
    "end\n",
    "function Phi(x)\n",
    "    return fftshift(fft(x));\n",
    "end\n",
    "function Phi_H(x)\n",
    "    return ifft(ifftshift(x));\n",
    "end\n",
    "function Phi_c(x)\n",
    "    x = reshape(x,N,C)\n",
    "    y = zeros(N,C).+0*im\n",
    "    for i = 1:C\n",
    "        y[:,i] = Phi(x[:,i]);\n",
    "    end\n",
    "    return y[:]\n",
    "end\n",
    "function Phi_cH(x)\n",
    "    x = reshape(x,N,C)\n",
    "    y = zeros(N,C).+0*im\n",
    "    for i = 1:C\n",
    "        y[:,i] = Phi_H(x[:,i]);\n",
    "    end\n",
    "    return y[:]\n",
    "end\n",
    "function Psi_c(x)\n",
    "    x = reshape(x,N,C)\n",
    "    y = zeros(N,C).+0*im\n",
    "    for i = 1:C\n",
    "        y[:,i] = Psi(x[:,i]);\n",
    "    end\n",
    "    return y[:]\n",
    "end\n",
    "function Psi_cH(x)\n",
    "    x = reshape(x,N,C)\n",
    "    y = zeros(N,C).+0*im\n",
    "    for i = 1:C\n",
    "        y[:,i] = Psi_H(x[:,i]);\n",
    "    end\n",
    "    return y[:]\n",
    "end\n",
    "function F_Omega_c(x)\n",
    "    x = reshape(x,N,C)\n",
    "    y = zeros(N,C).+0*im\n",
    "    for i = 1:C\n",
    "        y[:,i] = P_Omega*Phi(x[:,i]);\n",
    "    end\n",
    "    return y[:]\n",
    "end\n",
    "function F_Omega_cH(x)\n",
    "    x = reshape(x,N,C)\n",
    "    y = zeros(N,C).+0*im\n",
    "    for i = 1:C\n",
    "        y[:,i] = Phi_H(P_Omega'*x[:,i]);\n",
    "    end\n",
    "    return y[:]\n",
    "end\n",
    "# norm(Phi_cH(Phi_c(x)) - x)\n",
    "# norm(Psi_cH(Psi_c(x)) - x)\n",
    "# F_Omega_cH(F_Omega_c(x)) - x"
   ]
  },
  {
   "cell_type": "code",
   "execution_count": 8,
   "metadata": {},
   "outputs": [],
   "source": [
    "# Simulate K-Space data\n",
    "cs_vec = reshape(coilScans,:,C)\n",
    "y_original = zeros(N,C)+zeros(N,C)*im\n",
    "for i = 1:C\n",
    "    y_original[:,i] = Phi(cs_vec[:,i]); # Full K-Space data of vectorised coil images\n",
    "end\n",
    "\n",
    "y_data = P_Omega*y_original\n",
    "y_data = y_data[:];\n",
    "\n",
    "# Diagonalised Sensitivity Maps\n",
    "vectorisedMaps = reshape(coilSensitivityMaps, :, C);\n",
    "S = Diagonal(vectorisedMaps[:,1]);\n",
    "for coil= 2:C\n",
    "    S = [S; Diagonal(vectorisedMaps[:,coil])];\n",
    "end\n",
    "S = S .+ 0*im; # Very Important to make this complex otherwise Julia gets stuck\n",
    "# imshow(reshape(cs_vec[:,1],height, width))\n",
    "# PyPlot.plot(abs.(y)data[:,1]))"
   ]
  },
  {
   "cell_type": "code",
   "execution_count": 9,
   "metadata": {},
   "outputs": [
    {
     "data": {
      "text/plain": [
       "Q_H (generic function with 1 method)"
      ]
     },
     "execution_count": 9,
     "metadata": {},
     "output_type": "execute_result"
    }
   ],
   "source": [
    "# QR Decomposition of S, and defining Q'*x for later use\n",
    "F = qr(S);\n",
    "Q = F.Q;\n",
    "R = F.R;\n",
    "\n",
    "function Q_H(x)\n",
    "    y = Q'*x;\n",
    "    return y[1:N]\n",
    "end"
   ]
  },
  {
   "cell_type": "code",
   "execution_count": 10,
   "metadata": {},
   "outputs": [],
   "source": [
    "# Define hyperparameters \n",
    "alpha = 1;\n",
    "beta = alpha/2;\n",
    "v = 10*alpha;\n",
    "nInner = 1; # Number of inner Bregman iterations \n",
    "nOuter = 100; # Number of outer Bregman iterations \n",
    "# delta = # Alternatively can define threshold for stopping condition instead of nOuter"
   ]
  },
  {
   "cell_type": "code",
   "execution_count": 32,
   "metadata": {},
   "outputs": [
    {
     "data": {
      "text/plain": [
       "67595"
      ]
     },
     "execution_count": 32,
     "metadata": {},
     "output_type": "execute_result"
    }
   ],
   "source": [
    "# Precompute values\n",
    "I_c = Diagonal(ones(C));\n",
    "\n",
    "PP = alpha*P_Omega.^2 + (beta + v)*I;\n",
    "Lambda = kron(I_c, PP) ;\n",
    "Lambda = Array(diag(Lambda))\n",
    "function invLambda(x)\n",
    "     return x./(Lambda)\n",
    "end\n",
    "sum(Lambda.<11)"
   ]
  },
  {
   "cell_type": "code",
   "execution_count": 12,
   "metadata": {},
   "outputs": [],
   "source": [
    "# Initialise values  \n",
    "y = y_data;\n",
    "x = SoS(Phi_cH(y));"
   ]
  },
  {
   "cell_type": "code",
   "execution_count": 13,
   "metadata": {},
   "outputs": [],
   "source": [
    "ds = zeros( (N*C, ));\n",
    "dpsi = zeros( (N*C, ));\n",
    "d1 = zeros( (N*C, ));\n",
    "d2 = zeros( (N*C, ));\n",
    "bs = zeros( (N*C, ));\n",
    "bpsi = zeros( (N*C));\n",
    "b1 = zeros( (N*C, ));\n",
    "b2 = zeros( (N*C, ));\n",
    "Sx = zeros( (N*C, ));"
   ]
  },
  {
   "cell_type": "markdown",
   "metadata": {},
   "source": [
    "### SENSE pMRI reconstruction with JS, without the total variation regularization"
   ]
  },
  {
   "cell_type": "code",
   "execution_count": 15,
   "metadata": {},
   "outputs": [],
   "source": [
    "for nOut = 1:nOuter\n",
    "    for nIn = 1:nInner\n",
    "        x = R\\(Q_H(ds - bs));\n",
    "        Sx = S*x;\n",
    "        ds = Phi_cH(invLambda(Phi_c(alpha*F_Omega_cH(y) + beta*Psi_cH(dpsi-bpsi) + v*(Sx+bs))));\n",
    "        dpsi = Jsoftshrink(Psi_c(ds) + bpsi, 1/beta);\n",
    "        bs = bs + Sx - ds;\n",
    "        bpsi = bpsi + Psi_c(ds) - dpsi;\n",
    "    end\n",
    "    y = y + y_data - F_Omega_c(Sx);\n",
    "end"
   ]
  },
  {
   "cell_type": "code",
   "execution_count": 16,
   "metadata": {},
   "outputs": [
    {
     "data": {
      "text/plain": [
       "1.440131537874777e9"
      ]
     },
     "execution_count": 16,
     "metadata": {},
     "output_type": "execute_result"
    }
   ],
   "source": [
    "norm(y-y_data)"
   ]
  },
  {
   "cell_type": "code",
   "execution_count": 17,
   "metadata": {},
   "outputs": [
    {
     "data": {
      "image/png": "[encoded data removed]",
      "text/plain": [
       "Figure(PyObject <Figure size 640x480 with 1 Axes>)"
      ]
     },
     "metadata": {},
     "output_type": "display_data"
    },
    {
     "data": {
      "text/plain": [
       "PyObject <matplotlib.image.AxesImage object at 0x00000000495915C8>"
      ]
     },
     "execution_count": 17,
     "metadata": {},
     "output_type": "execute_result"
    }
   ],
   "source": [
    "PyPlot.imshow(reshape(abs.(x),height,width))\n"
   ]
  },
  {
   "cell_type": "markdown",
   "metadata": {},
   "source": [
    "### Visualisation"
   ]
  },
  {
   "cell_type": "code",
   "execution_count": 50,
   "metadata": {},
   "outputs": [
    {
     "data": {
      "text/plain": [
       "10×10 Diagonal{Int64,Array{Int64,1}}:\n",
       " 1  ⋅  ⋅  ⋅  ⋅  ⋅  ⋅  ⋅  ⋅  ⋅\n",
       " ⋅  1  ⋅  ⋅  ⋅  ⋅  ⋅  ⋅  ⋅  ⋅\n",
       " ⋅  ⋅  2  ⋅  ⋅  ⋅  ⋅  ⋅  ⋅  ⋅\n",
       " ⋅  ⋅  ⋅  3  ⋅  ⋅  ⋅  ⋅  ⋅  ⋅\n",
       " ⋅  ⋅  ⋅  ⋅  1  ⋅  ⋅  ⋅  ⋅  ⋅\n",
       " ⋅  ⋅  ⋅  ⋅  ⋅  2  ⋅  ⋅  ⋅  ⋅\n",
       " ⋅  ⋅  ⋅  ⋅  ⋅  ⋅  3  ⋅  ⋅  ⋅\n",
       " ⋅  ⋅  ⋅  ⋅  ⋅  ⋅  ⋅  5  ⋅  ⋅\n",
       " ⋅  ⋅  ⋅  ⋅  ⋅  ⋅  ⋅  ⋅  7  ⋅\n",
       " ⋅  ⋅  ⋅  ⋅  ⋅  ⋅  ⋅  ⋅  ⋅  3"
      ]
     },
     "execution_count": 50,
     "metadata": {},
     "output_type": "execute_result"
    }
   ],
   "source": [
    "aa = fft(Diagonal(ones(10)))\n",
    "dd = Diagonal([1,1,2,3,1,2,3,5,7,3])"
   ]
  },
  {
   "cell_type": "code",
   "execution_count": 65,
   "metadata": {},
   "outputs": [
    {
     "data": {
      "text/plain": [
       "8.12403840463596"
      ]
     },
     "execution_count": 65,
     "metadata": {},
     "output_type": "execute_result"
    }
   ],
   "source": [
    "norm(aa'*dd*aa/10^2 - I)"
   ]
  },
  {
   "cell_type": "code",
   "execution_count": 61,
   "metadata": {},
   "outputs": [
    {
     "data": {
      "text/plain": [
       "10×10 Array{Complex{Float64},2}:\n",
       " 0.1+0.0im           0.0+0.0im           0.0+0.0im  …           0.0+0.0im\n",
       " 0.0+0.0im           0.0+0.0im           0.0+0.0im              0.1+0.0im\n",
       " 0.0+0.0im           0.0+0.0im           0.0+0.0im              0.0+0.0im\n",
       " 0.0+0.0im  -1.25289e-17+0.0im           0.0+0.0im     -2.04696e-18+0.0im\n",
       " 0.0+0.0im           0.0+0.0im  -4.17631e-18+0.0im              0.0+0.0im\n",
       " 0.0+0.0im           0.0+0.0im           0.0+0.0im  …           0.0+0.0im\n",
       " 0.0+0.0im           0.0+0.0im  -2.04696e-18+0.0im              0.0+0.0im\n",
       " 0.0+0.0im   -3.4116e-18+0.0im           0.0+0.0im     -2.08816e-17+0.0im\n",
       " 0.0+0.0im           0.0+0.0im           0.7+0.0im              0.0+0.0im\n",
       " 0.0+0.0im           0.3+0.0im           0.0+0.0im              0.0+0.0im"
      ]
     },
     "execution_count": 61,
     "metadata": {},
     "output_type": "execute_result"
    }
   ],
   "source": [
    "dd*aa/100"
   ]
  },
  {
   "cell_type": "code",
   "execution_count": 48,
   "metadata": {},
   "outputs": [
    {
     "data": {
      "text/plain": [
       "5×5 Array{Complex{Float64},2}:\n",
       " 5.0+0.0im           0.0+0.0im           0.0+0.0im  …           0.0+0.0im\n",
       " 0.0+0.0im           0.0+0.0im   -3.4116e-17+0.0im              5.0+0.0im\n",
       " 0.0+0.0im   -3.4116e-17+0.0im           0.0+0.0im     -2.08816e-16+0.0im\n",
       " 0.0+0.0im  -2.08816e-16+0.0im           5.0+0.0im      -3.4116e-17+0.0im\n",
       " 0.0+0.0im           5.0+0.0im  -2.08816e-16+0.0im              0.0+0.0im"
      ]
     },
     "execution_count": 48,
     "metadata": {},
     "output_type": "execute_result"
    }
   ],
   "source": [
    "aa"
   ]
  },
  {
   "cell_type": "code",
   "execution_count": 49,
   "metadata": {},
   "outputs": [
    {
     "data": {
      "text/plain": [
       "5×5 SparseMatrixCSC{Complex{Float64},Int64} with 13 stored entries:\n",
       "  [1, 1]  =  5.0+0.0im\n",
       "  [3, 2]  =  -3.4116e-17+0.0im\n",
       "  [4, 2]  =  -2.08816e-16+0.0im\n",
       "  [5, 2]  =  5.0+0.0im\n",
       "  [2, 3]  =  -3.4116e-17+0.0im\n",
       "  [4, 3]  =  5.0+0.0im\n",
       "  [5, 3]  =  -2.08816e-16+0.0im\n",
       "  [2, 4]  =  -2.08816e-16+0.0im\n",
       "  [3, 4]  =  5.0+0.0im\n",
       "  [5, 4]  =  -3.4116e-17+0.0im\n",
       "  [2, 5]  =  5.0+0.0im\n",
       "  [3, 5]  =  -2.08816e-16+0.0im\n",
       "  [4, 5]  =  -3.4116e-17+0.0im"
      ]
     },
     "execution_count": 49,
     "metadata": {},
     "output_type": "execute_result"
    }
   ],
   "source": [
    "sparse(aa)"
   ]
  },
  {
   "cell_type": "code",
   "execution_count": null,
   "metadata": {},
   "outputs": [],
   "source": []
  }
 ],
 "metadata": {
  "kernelspec": {
   "display_name": "Julia 1.4.1",
   "language": "julia",
   "name": "julia-1.4"
  },
  "language_info": {
   "file_extension": ".jl",
   "mimetype": "application/julia",
   "name": "julia",
   "version": "1.4.1"
  }
 },
 "nbformat": 4,
 "nbformat_minor": 4
}
